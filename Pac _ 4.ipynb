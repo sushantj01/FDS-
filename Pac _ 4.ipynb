{
 "cells": [
  {
   "cell_type": "code",
   "execution_count": 1,
   "id": "994e851f",
   "metadata": {},
   "outputs": [
    {
     "name": "stdout",
     "output_type": "stream",
     "text": [
      "probability of getting 3 is : 0.16666666666666666\n"
     ]
    }
   ],
   "source": [
    "# prob of getting 3 when die is rolled\n",
    "# Ans :p =1/6\n",
    "\n",
    "#n(s)= (1,2,3,4,5,6)\n",
    "ns= 6\n",
    "\n",
    "#n(A) = getting 3 = {3}\n",
    "na = 1 \n",
    "\n",
    "#p(A)\n",
    "pa =na/ns\n",
    "print(\"probability of getting 3 is :\",pa)"
   ]
  },
  {
   "cell_type": "code",
   "execution_count": 2,
   "id": "439cd09b",
   "metadata": {},
   "outputs": [
    {
     "name": "stdout",
     "output_type": "stream",
     "text": [
      "Probability of getting atleast one head when a coin is toss is : 0.875\n"
     ]
    }
   ],
   "source": [
    "# prob of atleast getting one head when a coin is tossed\n",
    "\n",
    "# 5 ={HHH,TTT,HTH,THH,TTH,THT,HTT,HHT}\n",
    "\n",
    "ns= 8\n",
    "na = 7\n",
    "#p(A)\n",
    "pa=na/ns\n",
    "print(\"Probability of getting atleast one head when a coin is toss is :\",pa)"
   ]
  },
  {
   "cell_type": "code",
   "execution_count": 3,
   "id": "865ec3b8",
   "metadata": {},
   "outputs": [
    {
     "name": "stdout",
     "output_type": "stream",
     "text": [
      "Probability of the jelly bean is not blue is : 0.7\n"
     ]
    }
   ],
   "source": [
    "# example :3\n",
    "# A glass jar contain 5 red , 3 blue  and 2 green jelly beans, what is probablity that it is not blue?\n",
    "\n",
    "# s ={r1,r2,r3,r4,r4,r5,b1,b2,b3,g1,g2}\n",
    "ns= 10\n",
    "\n",
    "#A = it is not blue ={r1,r2,r3,r4,r4,r5,g1,g2}\n",
    "#p(A)\n",
    "pa=na/ns\n",
    "print(\"Probability of the jelly bean is not blue is :\",pa)"
   ]
  },
  {
   "cell_type": "code",
   "execution_count": 4,
   "id": "5718c62e",
   "metadata": {},
   "outputs": [
    {
     "name": "stdout",
     "output_type": "stream",
     "text": [
      "prob they both will is alive in 20 years is : 0.35\n"
     ]
    }
   ],
   "source": [
    "# example :4\n",
    "# if  the prob that person A will be alive i 20 years is 0.7\n",
    "# and the prob of person B will be alive in 20 years is 0.5\n",
    "# what is prob that they both will be alive in  20 years?\n",
    "\n",
    "# these are independent event ,50\n",
    "\n",
    "p= 0.7*0.5\n",
    "print(\"prob they both will is alive in 20 years is :\",p)\n"
   ]
  },
  {
   "cell_type": "code",
   "execution_count": 5,
   "id": "b781e9f3",
   "metadata": {},
   "outputs": [],
   "source": [
    "# A die is tossed twice , find the prob of getting 4  or 5 on first toss and 1,2,3 in second toss\n",
    "def event_prob(n,s):\n",
    "    return n/s"
   ]
  },
  {
   "cell_type": "code",
   "execution_count": 6,
   "id": "9231b4f7",
   "metadata": {},
   "outputs": [
    {
     "name": "stdout",
     "output_type": "stream",
     "text": [
      "prob of getting a4 or 5 on the first toss and a 1,2 or 3 in the second toss is : 0.16666666666666666\n"
     ]
    }
   ],
   "source": [
    "# example 5\n",
    "\n",
    "# A die i tossed  twise find the prob of getting a 4 or 5 on the first toss\n",
    "# and a 1,2 or 3 in second tossed\n",
    "\n",
    "# using my func \n",
    "\n",
    "# prob of getting a 4 or 5 on the first toss ,2 event total sample is 6\n",
    "pa= event_prob(2,6)\n",
    "\n",
    "\n",
    "# prob of getting a 1,2 or 3 on second  toss 3 event total sample is 6\n",
    "pb=event_prob(3,6)\n",
    "\n",
    "\n",
    "# total prob of both will be\n",
    "p=pa*pb\n",
    "print(\"prob of getting a4 or 5 on the first toss and a 1,2 or 3 in the second toss is :\",p)\n"
   ]
  },
  {
   "cell_type": "code",
   "execution_count": 7,
   "id": "bf6914d0",
   "metadata": {},
   "outputs": [
    {
     "name": "stdout",
     "output_type": "stream",
     "text": [
      "prob of obtaining white ,black amd green in order is: 0.1736111111111111\n"
     ]
    }
   ],
   "source": [
    "# example :6\n",
    "# A \n",
    "\n",
    "\n",
    "\n",
    "#S = {5 white ,3 black , 2 green }\n",
    "ns = 10\n",
    "\n",
    "# event 1 {getting white}\n",
    "na=5\n",
    "pa= event_prob(na,10)\n",
    "\n",
    "#event 2 {getting black}\n",
    "nb= 3\n",
    "pb= event_prob(na,9)\n",
    "\n",
    "#event 3 {getting green}\n",
    "nc= 2\n",
    "pc= event_prob(na,8)\n",
    "p=pa*pb*pc\n",
    "\n",
    "print(\"prob of obtaining white ,black amd green in order is:\",p)"
   ]
  },
  {
   "cell_type": "code",
   "execution_count": 8,
   "id": "09a5a805",
   "metadata": {},
   "outputs": [
    {
     "name": "stdout",
     "output_type": "stream",
     "text": [
      "prob of drawing a hearts or a clubs is : 0.5\n"
     ]
    }
   ],
   "source": [
    "# example :7\n",
    "# sample space\n",
    "cards =52\n",
    "\n",
    "# calculate the prob of drawing a heart or a club\n",
    "\n",
    "hearts =13\n",
    "clubs= 13\n",
    "\n",
    "#13/52 + 13/52\n",
    "hearts_or_clubs = event_prob(hearts,cards )+ event_prob(clubs,cards)\n",
    "print(\"prob of drawing a hearts or a clubs is :\",hearts_or_clubs)"
   ]
  },
  {
   "cell_type": "code",
   "execution_count": 9,
   "id": "ef779d75",
   "metadata": {},
   "outputs": [
    {
     "ename": "NameError",
     "evalue": "name 'card' is not defined",
     "output_type": "error",
     "traceback": [
      "\u001b[1;31m---------------------------------------------------------------------------\u001b[0m",
      "\u001b[1;31mNameError\u001b[0m                                 Traceback (most recent call last)",
      "\u001b[1;32m~\\AppData\\Local\\Temp/ipykernel_1924/3862312216.py\u001b[0m in \u001b[0;36m<module>\u001b[1;34m\u001b[0m\n\u001b[0;32m      4\u001b[0m \u001b[0mking\u001b[0m \u001b[1;33m=\u001b[0m \u001b[1;36m4\u001b[0m\u001b[1;33m\u001b[0m\u001b[1;33m\u001b[0m\u001b[0m\n\u001b[0;32m      5\u001b[0m \u001b[0mqueen\u001b[0m \u001b[1;33m=\u001b[0m \u001b[1;36m4\u001b[0m\u001b[1;33m\u001b[0m\u001b[1;33m\u001b[0m\u001b[0m\n\u001b[1;32m----> 6\u001b[1;33m \u001b[0mace_or_queen\u001b[0m \u001b[1;33m=\u001b[0m \u001b[0mevent_prob\u001b[0m\u001b[1;33m(\u001b[0m\u001b[0mace\u001b[0m\u001b[1;33m,\u001b[0m\u001b[0mcards\u001b[0m\u001b[1;33m)\u001b[0m\u001b[1;33m+\u001b[0m\u001b[0mevent_prob\u001b[0m\u001b[1;33m(\u001b[0m\u001b[0mking\u001b[0m\u001b[1;33m,\u001b[0m\u001b[0mcard\u001b[0m\u001b[1;33m)\u001b[0m\u001b[1;33m+\u001b[0m\u001b[0mevent_prob\u001b[0m\u001b[1;33m(\u001b[0m\u001b[0mqueen\u001b[0m\u001b[1;33m,\u001b[0m\u001b[0mcards\u001b[0m\u001b[1;33m)\u001b[0m\u001b[1;33m\u001b[0m\u001b[1;33m\u001b[0m\u001b[0m\n\u001b[0m\u001b[0;32m      7\u001b[0m \u001b[0mprint\u001b[0m\u001b[1;33m(\u001b[0m\u001b[0mace\u001b[0m\u001b[1;33m)\u001b[0m\u001b[1;33m\u001b[0m\u001b[1;33m\u001b[0m\u001b[0m\n\u001b[0;32m      8\u001b[0m \u001b[0mprint\u001b[0m\u001b[1;33m(\u001b[0m\u001b[0mking\u001b[0m\u001b[1;33m)\u001b[0m\u001b[1;33m\u001b[0m\u001b[1;33m\u001b[0m\u001b[0m\n",
      "\u001b[1;31mNameError\u001b[0m: name 'card' is not defined"
     ]
    }
   ],
   "source": [
    "# ex 8\n",
    "\n",
    "ace = 4\n",
    "king = 4\n",
    "queen = 4\n",
    "ace_or_queen = event_prob(ace,cards)+event_prob(king,card)+event_prob(queen,cards)\n",
    "print(ace)\n",
    "print(king)\n",
    "print(queen)"
   ]
  },
  {
   "cell_type": "code",
   "execution_count": 10,
   "id": "51ba40c6",
   "metadata": {},
   "outputs": [
    {
     "ename": "NameError",
     "evalue": "name 'heart' is not defined",
     "output_type": "error",
     "traceback": [
      "\u001b[1;31m---------------------------------------------------------------------------\u001b[0m",
      "\u001b[1;31mNameError\u001b[0m                                 Traceback (most recent call last)",
      "\u001b[1;32m~\\AppData\\Local\\Temp/ipykernel_1924/2564729771.py\u001b[0m in \u001b[0;36m<module>\u001b[1;34m\u001b[0m\n\u001b[0;32m      3\u001b[0m \u001b[0mace\u001b[0m\u001b[1;33m=\u001b[0m \u001b[1;36m4\u001b[0m\u001b[1;33m\u001b[0m\u001b[1;33m\u001b[0m\u001b[0m\n\u001b[0;32m      4\u001b[0m \u001b[0mace_of_heart\u001b[0m\u001b[1;33m=\u001b[0m\u001b[1;36m1\u001b[0m\u001b[1;33m\u001b[0m\u001b[1;33m\u001b[0m\u001b[0m\n\u001b[1;32m----> 5\u001b[1;33m \u001b[0mheart_or_ace\u001b[0m\u001b[1;33m=\u001b[0m\u001b[0mevent_prob\u001b[0m\u001b[1;33m(\u001b[0m\u001b[0mheart\u001b[0m\u001b[1;33m,\u001b[0m\u001b[0mcards\u001b[0m\u001b[1;33m)\u001b[0m \u001b[1;33m+\u001b[0m \u001b[0mevent_prob\u001b[0m\u001b[1;33m(\u001b[0m\u001b[0mace\u001b[0m\u001b[1;33m,\u001b[0m\u001b[0mcards\u001b[0m\u001b[1;33m)\u001b[0m\u001b[1;33m-\u001b[0m \u001b[0mevent_prob\u001b[0m\u001b[1;33m(\u001b[0m\u001b[0mace_of_heart\u001b[0m\u001b[1;33m,\u001b[0m\u001b[0mcards\u001b[0m\u001b[1;33m)\u001b[0m\u001b[1;33m\u001b[0m\u001b[1;33m\u001b[0m\u001b[0m\n\u001b[0m\u001b[0;32m      6\u001b[0m \u001b[0mprint\u001b[0m\u001b[1;33m(\u001b[0m\u001b[1;34m\"the prob of drawing a heart or an ace is :\"\u001b[0m\u001b[1;33m,\u001b[0m\u001b[0mround\u001b[0m\u001b[1;33m(\u001b[0m\u001b[0mheart_or_ace\u001b[0m\u001b[1;33m,\u001b[0m\u001b[1;36m1\u001b[0m\u001b[1;33m)\u001b[0m\u001b[1;33m)\u001b[0m\u001b[1;33m\u001b[0m\u001b[1;33m\u001b[0m\u001b[0m\n\u001b[0;32m      7\u001b[0m \u001b[1;33m\u001b[0m\u001b[0m\n",
      "\u001b[1;31mNameError\u001b[0m: name 'heart' is not defined"
     ]
    }
   ],
   "source": [
    "#ex 9\n",
    "hearts = 13\n",
    "ace= 4\n",
    "ace_of_heart=1\n",
    "heart_or_ace=event_prob(heart,cards) + event_prob(ace,cards)- event_prob(ace_of_heart,cards)\n",
    "print(\"the prob of drawing a heart or an ace is :\",round(heart_or_ace,1))\n",
    "\n",
    "#round (heart_or_ace,1)\n",
    "#1-1 element after decimal"
   ]
  },
  {
   "cell_type": "code",
   "execution_count": 13,
   "id": "02e08981",
   "metadata": {},
   "outputs": [
    {
     "ename": "NameError",
     "evalue": "name 'card' is not defined",
     "output_type": "error",
     "traceback": [
      "\u001b[1;31m---------------------------------------------------------------------------\u001b[0m",
      "\u001b[1;31mNameError\u001b[0m                                 Traceback (most recent call last)",
      "\u001b[1;32m~\\AppData\\Local\\Temp/ipykernel_1924/74681778.py\u001b[0m in \u001b[0;36m<module>\u001b[1;34m\u001b[0m\n\u001b[0;32m     11\u001b[0m \u001b[0mred_face\u001b[0m\u001b[1;33m=\u001b[0m \u001b[1;36m6\u001b[0m\u001b[1;33m\u001b[0m\u001b[1;33m\u001b[0m\u001b[0m\n\u001b[0;32m     12\u001b[0m \u001b[1;33m\u001b[0m\u001b[0m\n\u001b[1;32m---> 13\u001b[1;33m \u001b[0mred_or_face\u001b[0m\u001b[1;33m=\u001b[0m\u001b[0mevent_prob\u001b[0m\u001b[1;33m(\u001b[0m\u001b[0mred\u001b[0m\u001b[1;33m,\u001b[0m\u001b[0mcard\u001b[0m\u001b[1;33m)\u001b[0m\u001b[1;33m+\u001b[0m\u001b[0mevent_prob\u001b[0m\u001b[1;33m(\u001b[0m\u001b[0mface_card\u001b[0m\u001b[1;33m,\u001b[0m\u001b[0mcard\u001b[0m\u001b[1;33m)\u001b[0m\u001b[1;33m-\u001b[0m\u001b[0mevent_prob\u001b[0m\u001b[1;33m(\u001b[0m\u001b[0mred_face\u001b[0m\u001b[1;33m,\u001b[0m\u001b[0mcard\u001b[0m\u001b[1;33m)\u001b[0m\u001b[1;33m\u001b[0m\u001b[1;33m\u001b[0m\u001b[0m\n\u001b[0m\u001b[0;32m     14\u001b[0m \u001b[1;33m\u001b[0m\u001b[0m\n\u001b[0;32m     15\u001b[0m \u001b[0mprint\u001b[0m\u001b[1;33m(\u001b[0m\u001b[1;34m\"prob of drawing a red card or face card is:\"\u001b[0m\u001b[1;33m,\u001b[0m\u001b[0mround\u001b[0m\u001b[1;33m(\u001b[0m\u001b[0mred_or_face\u001b[0m\u001b[1;33m,\u001b[0m\u001b[1;36m2\u001b[0m\u001b[1;33m)\u001b[0m\u001b[1;33m)\u001b[0m\u001b[1;33m\u001b[0m\u001b[1;33m\u001b[0m\u001b[0m\n",
      "\u001b[1;31mNameError\u001b[0m: name 'card' is not defined"
     ]
    }
   ],
   "source": [
    "# ex 10\n",
    "\n",
    "# cal prob of drawing red card or face cards \n",
    "# 13 heart + 13 dimond \n",
    "red = 26\n",
    "\n",
    "# king+queen+j each set of 4 which is 3*4=12\n",
    "face_card = 12\n",
    "\n",
    "# but there is red face card {3 heart +3 dimond}\n",
    "red_face= 6\n",
    "\n",
    "red_or_face=event_prob(red,card)+event_prob(face_card,card)-event_prob(red_face,card)\n",
    "\n",
    "print(\"prob of drawing a red card or face card is:\",round(red_or_face,2))\n",
    "# round(red_or_face)\n",
    "# 2 element after dimond"
   ]
  },
  {
   "cell_type": "code",
   "execution_count": 14,
   "id": "ec48cec0",
   "metadata": {},
   "outputs": [
    {
     "name": "stdout",
     "output_type": "stream",
     "text": [
      "prob of not getting 5 is : 0.83\n",
      "prob of not getting 5 is : 0.83\n"
     ]
    }
   ],
   "source": [
    "# ex 13\n",
    "# prob of not geting 5 when die is rolled.\n",
    "# s +{1,2,3,4,5,,6}\n",
    "ns = 6\n",
    "\n",
    "# getting 5\n",
    "na=1\n",
    "\n",
    "pa= event_prob(na,ns)\n",
    "print(\"prob of not getting 5 is :\",round(1-event_prob(na,ns),2))\n",
    "# both the way are same \n",
    "# prob of not getting 5 is - prob of getting 5\n",
    "print(\"prob of not getting 5 is :\",round(1-pa,2))\n",
    "      \n"
   ]
  },
  {
   "cell_type": "code",
   "execution_count": 15,
   "id": "0d545294",
   "metadata": {},
   "outputs": [
    {
     "name": "stdout",
     "output_type": "stream",
     "text": [
      "0.08\n",
      "0.0784313725490196\n"
     ]
    }
   ],
   "source": [
    "# ex 12(conditional prob)\n",
    "\n",
    "# suppose you draw 2 card from deck\n",
    "# you win if you get ace given thatb you draw a jack is first draw\n",
    "\n",
    "card= 52\n",
    "\n",
    "j= 4\n",
    "ace= 4\n",
    "\n",
    "# prob of jack in first draw\n",
    "pj= event_prob(j,card)\n",
    "\n",
    "#prob of ace in second draw and not putting previous card\n",
    "pa= event_prob(ace,51)\n",
    "\n",
    "# formula  of conditional prob\n",
    "pa_given_pj =(pa*pj)/pj\n",
    "print(round(pa_given_pj,2))\n",
    "print(pa_given_pj)\n"
   ]
  },
  {
   "cell_type": "code",
   "execution_count": 16,
   "id": "441a4820",
   "metadata": {},
   "outputs": [],
   "source": [
    "import pandas as pd\n",
    "import numpy  as np\n",
    "\n",
    "df= pd.read_csv(\"student-mat - student-mat.csv\")"
   ]
  },
  {
   "cell_type": "code",
   "execution_count": 17,
   "id": "8e842c2b",
   "metadata": {},
   "outputs": [
    {
     "data": {
      "text/html": [
       "<div>\n",
       "<style scoped>\n",
       "    .dataframe tbody tr th:only-of-type {\n",
       "        vertical-align: middle;\n",
       "    }\n",
       "\n",
       "    .dataframe tbody tr th {\n",
       "        vertical-align: top;\n",
       "    }\n",
       "\n",
       "    .dataframe thead th {\n",
       "        text-align: right;\n",
       "    }\n",
       "</style>\n",
       "<table border=\"1\" class=\"dataframe\">\n",
       "  <thead>\n",
       "    <tr style=\"text-align: right;\">\n",
       "      <th></th>\n",
       "      <th>school</th>\n",
       "      <th>sex</th>\n",
       "      <th>age</th>\n",
       "      <th>address</th>\n",
       "      <th>famsize</th>\n",
       "      <th>Pstatus</th>\n",
       "      <th>Medu</th>\n",
       "      <th>Fedu</th>\n",
       "      <th>Mjob</th>\n",
       "      <th>Fjob</th>\n",
       "      <th>...</th>\n",
       "      <th>famrel</th>\n",
       "      <th>freetime</th>\n",
       "      <th>goout</th>\n",
       "      <th>Dalc</th>\n",
       "      <th>Walc</th>\n",
       "      <th>health</th>\n",
       "      <th>absences</th>\n",
       "      <th>G1</th>\n",
       "      <th>G2</th>\n",
       "      <th>G3</th>\n",
       "    </tr>\n",
       "  </thead>\n",
       "  <tbody>\n",
       "    <tr>\n",
       "      <th>0</th>\n",
       "      <td>GP</td>\n",
       "      <td>F</td>\n",
       "      <td>18</td>\n",
       "      <td>U</td>\n",
       "      <td>GT3</td>\n",
       "      <td>A</td>\n",
       "      <td>4</td>\n",
       "      <td>4</td>\n",
       "      <td>at_home</td>\n",
       "      <td>teacher</td>\n",
       "      <td>...</td>\n",
       "      <td>4</td>\n",
       "      <td>3</td>\n",
       "      <td>4</td>\n",
       "      <td>1</td>\n",
       "      <td>1</td>\n",
       "      <td>3</td>\n",
       "      <td>6</td>\n",
       "      <td>5</td>\n",
       "      <td>6</td>\n",
       "      <td>6</td>\n",
       "    </tr>\n",
       "    <tr>\n",
       "      <th>1</th>\n",
       "      <td>GP</td>\n",
       "      <td>F</td>\n",
       "      <td>17</td>\n",
       "      <td>U</td>\n",
       "      <td>GT3</td>\n",
       "      <td>T</td>\n",
       "      <td>1</td>\n",
       "      <td>1</td>\n",
       "      <td>at_home</td>\n",
       "      <td>other</td>\n",
       "      <td>...</td>\n",
       "      <td>5</td>\n",
       "      <td>3</td>\n",
       "      <td>3</td>\n",
       "      <td>1</td>\n",
       "      <td>1</td>\n",
       "      <td>3</td>\n",
       "      <td>4</td>\n",
       "      <td>5</td>\n",
       "      <td>5</td>\n",
       "      <td>6</td>\n",
       "    </tr>\n",
       "    <tr>\n",
       "      <th>2</th>\n",
       "      <td>GP</td>\n",
       "      <td>F</td>\n",
       "      <td>15</td>\n",
       "      <td>U</td>\n",
       "      <td>LE3</td>\n",
       "      <td>T</td>\n",
       "      <td>1</td>\n",
       "      <td>1</td>\n",
       "      <td>at_home</td>\n",
       "      <td>other</td>\n",
       "      <td>...</td>\n",
       "      <td>4</td>\n",
       "      <td>3</td>\n",
       "      <td>2</td>\n",
       "      <td>2</td>\n",
       "      <td>3</td>\n",
       "      <td>3</td>\n",
       "      <td>10</td>\n",
       "      <td>7</td>\n",
       "      <td>8</td>\n",
       "      <td>10</td>\n",
       "    </tr>\n",
       "    <tr>\n",
       "      <th>3</th>\n",
       "      <td>GP</td>\n",
       "      <td>F</td>\n",
       "      <td>15</td>\n",
       "      <td>U</td>\n",
       "      <td>GT3</td>\n",
       "      <td>T</td>\n",
       "      <td>4</td>\n",
       "      <td>2</td>\n",
       "      <td>health</td>\n",
       "      <td>services</td>\n",
       "      <td>...</td>\n",
       "      <td>3</td>\n",
       "      <td>2</td>\n",
       "      <td>2</td>\n",
       "      <td>1</td>\n",
       "      <td>1</td>\n",
       "      <td>5</td>\n",
       "      <td>2</td>\n",
       "      <td>15</td>\n",
       "      <td>14</td>\n",
       "      <td>15</td>\n",
       "    </tr>\n",
       "    <tr>\n",
       "      <th>4</th>\n",
       "      <td>GP</td>\n",
       "      <td>F</td>\n",
       "      <td>16</td>\n",
       "      <td>U</td>\n",
       "      <td>GT3</td>\n",
       "      <td>T</td>\n",
       "      <td>3</td>\n",
       "      <td>3</td>\n",
       "      <td>other</td>\n",
       "      <td>other</td>\n",
       "      <td>...</td>\n",
       "      <td>4</td>\n",
       "      <td>3</td>\n",
       "      <td>2</td>\n",
       "      <td>1</td>\n",
       "      <td>2</td>\n",
       "      <td>5</td>\n",
       "      <td>4</td>\n",
       "      <td>6</td>\n",
       "      <td>10</td>\n",
       "      <td>10</td>\n",
       "    </tr>\n",
       "  </tbody>\n",
       "</table>\n",
       "<p>5 rows × 33 columns</p>\n",
       "</div>"
      ],
      "text/plain": [
       "  school sex  age address famsize Pstatus  Medu  Fedu     Mjob      Fjob  ...  \\\n",
       "0     GP   F   18       U     GT3       A     4     4  at_home   teacher  ...   \n",
       "1     GP   F   17       U     GT3       T     1     1  at_home     other  ...   \n",
       "2     GP   F   15       U     LE3       T     1     1  at_home     other  ...   \n",
       "3     GP   F   15       U     GT3       T     4     2   health  services  ...   \n",
       "4     GP   F   16       U     GT3       T     3     3    other     other  ...   \n",
       "\n",
       "  famrel freetime  goout  Dalc  Walc health absences  G1  G2  G3  \n",
       "0      4        3      4     1     1      3        6   5   6   6  \n",
       "1      5        3      3     1     1      3        4   5   5   6  \n",
       "2      4        3      2     2     3      3       10   7   8  10  \n",
       "3      3        2      2     1     1      5        2  15  14  15  \n",
       "4      4        3      2     1     2      5        4   6  10  10  \n",
       "\n",
       "[5 rows x 33 columns]"
      ]
     },
     "execution_count": 17,
     "metadata": {},
     "output_type": "execute_result"
    }
   ],
   "source": [
    "df.head()"
   ]
  },
  {
   "cell_type": "code",
   "execution_count": 18,
   "id": "a4cac3c6",
   "metadata": {},
   "outputs": [
    {
     "data": {
      "text/html": [
       "<div>\n",
       "<style scoped>\n",
       "    .dataframe tbody tr th:only-of-type {\n",
       "        vertical-align: middle;\n",
       "    }\n",
       "\n",
       "    .dataframe tbody tr th {\n",
       "        vertical-align: top;\n",
       "    }\n",
       "\n",
       "    .dataframe thead th {\n",
       "        text-align: right;\n",
       "    }\n",
       "</style>\n",
       "<table border=\"1\" class=\"dataframe\">\n",
       "  <thead>\n",
       "    <tr style=\"text-align: right;\">\n",
       "      <th></th>\n",
       "      <th>school</th>\n",
       "      <th>sex</th>\n",
       "      <th>age</th>\n",
       "      <th>address</th>\n",
       "      <th>famsize</th>\n",
       "      <th>Pstatus</th>\n",
       "      <th>Medu</th>\n",
       "      <th>Fedu</th>\n",
       "      <th>Mjob</th>\n",
       "      <th>Fjob</th>\n",
       "      <th>...</th>\n",
       "      <th>famrel</th>\n",
       "      <th>freetime</th>\n",
       "      <th>goout</th>\n",
       "      <th>Dalc</th>\n",
       "      <th>Walc</th>\n",
       "      <th>health</th>\n",
       "      <th>absences</th>\n",
       "      <th>G1</th>\n",
       "      <th>G2</th>\n",
       "      <th>G3</th>\n",
       "    </tr>\n",
       "  </thead>\n",
       "  <tbody>\n",
       "    <tr>\n",
       "      <th>390</th>\n",
       "      <td>MS</td>\n",
       "      <td>M</td>\n",
       "      <td>20</td>\n",
       "      <td>U</td>\n",
       "      <td>LE3</td>\n",
       "      <td>A</td>\n",
       "      <td>2</td>\n",
       "      <td>2</td>\n",
       "      <td>services</td>\n",
       "      <td>services</td>\n",
       "      <td>...</td>\n",
       "      <td>5</td>\n",
       "      <td>5</td>\n",
       "      <td>4</td>\n",
       "      <td>4</td>\n",
       "      <td>5</td>\n",
       "      <td>4</td>\n",
       "      <td>11</td>\n",
       "      <td>9</td>\n",
       "      <td>9</td>\n",
       "      <td>9</td>\n",
       "    </tr>\n",
       "    <tr>\n",
       "      <th>391</th>\n",
       "      <td>MS</td>\n",
       "      <td>M</td>\n",
       "      <td>17</td>\n",
       "      <td>U</td>\n",
       "      <td>LE3</td>\n",
       "      <td>T</td>\n",
       "      <td>3</td>\n",
       "      <td>1</td>\n",
       "      <td>services</td>\n",
       "      <td>services</td>\n",
       "      <td>...</td>\n",
       "      <td>2</td>\n",
       "      <td>4</td>\n",
       "      <td>5</td>\n",
       "      <td>3</td>\n",
       "      <td>4</td>\n",
       "      <td>2</td>\n",
       "      <td>3</td>\n",
       "      <td>14</td>\n",
       "      <td>16</td>\n",
       "      <td>16</td>\n",
       "    </tr>\n",
       "    <tr>\n",
       "      <th>392</th>\n",
       "      <td>MS</td>\n",
       "      <td>M</td>\n",
       "      <td>21</td>\n",
       "      <td>R</td>\n",
       "      <td>GT3</td>\n",
       "      <td>T</td>\n",
       "      <td>1</td>\n",
       "      <td>1</td>\n",
       "      <td>other</td>\n",
       "      <td>other</td>\n",
       "      <td>...</td>\n",
       "      <td>5</td>\n",
       "      <td>5</td>\n",
       "      <td>3</td>\n",
       "      <td>3</td>\n",
       "      <td>3</td>\n",
       "      <td>3</td>\n",
       "      <td>3</td>\n",
       "      <td>10</td>\n",
       "      <td>8</td>\n",
       "      <td>7</td>\n",
       "    </tr>\n",
       "    <tr>\n",
       "      <th>393</th>\n",
       "      <td>MS</td>\n",
       "      <td>M</td>\n",
       "      <td>18</td>\n",
       "      <td>R</td>\n",
       "      <td>LE3</td>\n",
       "      <td>T</td>\n",
       "      <td>3</td>\n",
       "      <td>2</td>\n",
       "      <td>services</td>\n",
       "      <td>other</td>\n",
       "      <td>...</td>\n",
       "      <td>4</td>\n",
       "      <td>4</td>\n",
       "      <td>1</td>\n",
       "      <td>3</td>\n",
       "      <td>4</td>\n",
       "      <td>5</td>\n",
       "      <td>0</td>\n",
       "      <td>11</td>\n",
       "      <td>12</td>\n",
       "      <td>10</td>\n",
       "    </tr>\n",
       "    <tr>\n",
       "      <th>394</th>\n",
       "      <td>MS</td>\n",
       "      <td>M</td>\n",
       "      <td>19</td>\n",
       "      <td>U</td>\n",
       "      <td>LE3</td>\n",
       "      <td>T</td>\n",
       "      <td>1</td>\n",
       "      <td>1</td>\n",
       "      <td>other</td>\n",
       "      <td>at_home</td>\n",
       "      <td>...</td>\n",
       "      <td>3</td>\n",
       "      <td>2</td>\n",
       "      <td>3</td>\n",
       "      <td>3</td>\n",
       "      <td>3</td>\n",
       "      <td>5</td>\n",
       "      <td>5</td>\n",
       "      <td>8</td>\n",
       "      <td>9</td>\n",
       "      <td>9</td>\n",
       "    </tr>\n",
       "  </tbody>\n",
       "</table>\n",
       "<p>5 rows × 33 columns</p>\n",
       "</div>"
      ],
      "text/plain": [
       "    school sex  age address famsize Pstatus  Medu  Fedu      Mjob      Fjob  \\\n",
       "390     MS   M   20       U     LE3       A     2     2  services  services   \n",
       "391     MS   M   17       U     LE3       T     3     1  services  services   \n",
       "392     MS   M   21       R     GT3       T     1     1     other     other   \n",
       "393     MS   M   18       R     LE3       T     3     2  services     other   \n",
       "394     MS   M   19       U     LE3       T     1     1     other   at_home   \n",
       "\n",
       "     ... famrel freetime  goout  Dalc  Walc health absences  G1  G2  G3  \n",
       "390  ...      5        5      4     4     5      4       11   9   9   9  \n",
       "391  ...      2        4      5     3     4      2        3  14  16  16  \n",
       "392  ...      5        5      3     3     3      3        3  10   8   7  \n",
       "393  ...      4        4      1     3     4      5        0  11  12  10  \n",
       "394  ...      3        2      3     3     3      5        5   8   9   9  \n",
       "\n",
       "[5 rows x 33 columns]"
      ]
     },
     "execution_count": 18,
     "metadata": {},
     "output_type": "execute_result"
    }
   ],
   "source": [
    "df.tail()"
   ]
  },
  {
   "cell_type": "markdown",
   "id": "06f6715d",
   "metadata": {},
   "source": [
    "**calculate the probability a student gets A(80% +)in maths given they miss 10 or more classes.**\n",
    "\n",
    "we are concerned with the columns absences (number of absences)and G3(final grad from 0 to -20)\n",
    "\n",
    "adding the boolean columns called grade_A"
   ]
  },
  {
   "cell_type": "code",
   "execution_count": 19,
   "id": "755935dc",
   "metadata": {},
   "outputs": [],
   "source": [
    "df['grade_A'] = np.where(df['G3']*5 >=80,1,0)"
   ]
  },
  {
   "cell_type": "markdown",
   "id": "abd73aac",
   "metadata": {},
   "source": [
    "# Makeing "
   ]
  },
  {
   "cell_type": "code",
   "execution_count": 20,
   "id": "7177ce4d",
   "metadata": {},
   "outputs": [],
   "source": [
    "df[\"high_absences\"]=np.where(df[\"absences\"] >=10,1,0)"
   ]
  },
  {
   "cell_type": "code",
   "execution_count": null,
   "id": "89ba352f",
   "metadata": {},
   "outputs": [],
   "source": []
  },
  {
   "cell_type": "code",
   "execution_count": 21,
   "id": "a8ff0095",
   "metadata": {},
   "outputs": [],
   "source": [
    "df['count']=1"
   ]
  },
  {
   "cell_type": "code",
   "execution_count": null,
   "id": "bed2eea8",
   "metadata": {},
   "outputs": [],
   "source": []
  },
  {
   "cell_type": "code",
   "execution_count": 22,
   "id": "5df2100b",
   "metadata": {},
   "outputs": [
    {
     "data": {
      "text/html": [
       "<div>\n",
       "<style scoped>\n",
       "    .dataframe tbody tr th:only-of-type {\n",
       "        vertical-align: middle;\n",
       "    }\n",
       "\n",
       "    .dataframe tbody tr th {\n",
       "        vertical-align: top;\n",
       "    }\n",
       "\n",
       "    .dataframe thead th {\n",
       "        text-align: right;\n",
       "    }\n",
       "</style>\n",
       "<table border=\"1\" class=\"dataframe\">\n",
       "  <thead>\n",
       "    <tr style=\"text-align: right;\">\n",
       "      <th></th>\n",
       "      <th>grade_A</th>\n",
       "      <th>high_absences</th>\n",
       "      <th>count</th>\n",
       "    </tr>\n",
       "  </thead>\n",
       "  <tbody>\n",
       "    <tr>\n",
       "      <th>0</th>\n",
       "      <td>0</td>\n",
       "      <td>0</td>\n",
       "      <td>1</td>\n",
       "    </tr>\n",
       "    <tr>\n",
       "      <th>1</th>\n",
       "      <td>0</td>\n",
       "      <td>0</td>\n",
       "      <td>1</td>\n",
       "    </tr>\n",
       "    <tr>\n",
       "      <th>2</th>\n",
       "      <td>0</td>\n",
       "      <td>1</td>\n",
       "      <td>1</td>\n",
       "    </tr>\n",
       "    <tr>\n",
       "      <th>3</th>\n",
       "      <td>0</td>\n",
       "      <td>0</td>\n",
       "      <td>1</td>\n",
       "    </tr>\n",
       "    <tr>\n",
       "      <th>4</th>\n",
       "      <td>0</td>\n",
       "      <td>0</td>\n",
       "      <td>1</td>\n",
       "    </tr>\n",
       "  </tbody>\n",
       "</table>\n",
       "</div>"
      ],
      "text/plain": [
       "   grade_A  high_absences  count\n",
       "0        0              0      1\n",
       "1        0              0      1\n",
       "2        0              1      1\n",
       "3        0              0      1\n",
       "4        0              0      1"
      ]
     },
     "execution_count": 22,
     "metadata": {},
     "output_type": "execute_result"
    }
   ],
   "source": [
    "df= df[['grade_A','high_absences','count']]\n",
    "df.head()"
   ]
  },
  {
   "cell_type": "code",
   "execution_count": null,
   "id": "598730cf",
   "metadata": {},
   "outputs": [],
   "source": []
  },
  {
   "cell_type": "code",
   "execution_count": 23,
   "id": "18943d8b",
   "metadata": {},
   "outputs": [],
   "source": [
    "final = pd.pivot_table(\n",
    "   df,\n",
    "   values='count',\n",
    "   index=['grade_A'],\n",
    "   columns=['high_absences'],\n",
    "   aggfunc=np.size,\n",
    "   fill_value =0)"
   ]
  },
  {
   "cell_type": "code",
   "execution_count": 24,
   "id": "49cab883",
   "metadata": {},
   "outputs": [
    {
     "name": "stdout",
     "output_type": "stream",
     "text": [
      "high_absences    0   1\n",
      "grade_A               \n",
      "0              277  78\n",
      "1               35   5\n"
     ]
    }
   ],
   "source": [
    "print(final)"
   ]
  },
  {
   "cell_type": "markdown",
   "id": "581ea21d",
   "metadata": {},
   "source": [
    "**A= getting high grades B= high absence**"
   ]
  },
  {
   "cell_type": "code",
   "execution_count": 25,
   "id": "64379770",
   "metadata": {},
   "outputs": [
    {
     "data": {
      "text/plain": [
       "[0.21012658227848102]"
      ]
     },
     "execution_count": 25,
     "metadata": {},
     "output_type": "execute_result"
    }
   ],
   "source": [
    "# pa = (35+3)/(35+5+277+78)\\\n",
    "\n",
    "# a= final.iloc[0,1]\n",
    "# a\n",
    "\n",
    "pa = [(final.iloc[0,1] + final.iloc[1,1]) / (final.iloc[0,0] + final.iloc[0,1] + final.iloc[1,0] + final.iloc[1,1])]\n",
    "pa"
   ]
  },
  {
   "cell_type": "code",
   "execution_count": 26,
   "id": "7b67fe48",
   "metadata": {},
   "outputs": [
    {
     "data": {
      "text/plain": [
       "[0.21012658227848102]"
      ]
     },
     "execution_count": 26,
     "metadata": {},
     "output_type": "execute_result"
    }
   ],
   "source": [
    "# pb=(78+5)/(35+5+277+78)\n",
    "# pa\n",
    "\n",
    "pb = [(final.iloc[0,1] + final.iloc[1,1]) / (final.iloc[0,0] + final.iloc[0,1] + final.iloc[1,0] + final.iloc[1,1])]\n",
    "pb"
   ]
  },
  {
   "cell_type": "code",
   "execution_count": 29,
   "id": "f97bff66",
   "metadata": {},
   "outputs": [
    {
     "data": {
      "text/plain": [
       "0.012658227848101266"
      ]
     },
     "execution_count": 29,
     "metadata": {},
     "output_type": "execute_result"
    }
   ],
   "source": [
    "# pa_or_pb =5 /(35+5+277+78)\n",
    "# pa_or_pb\n",
    "\n",
    "pa_or_pb = (final.iloc[1,1]) / (final.iloc[0,0] + final.iloc[0,1] + final.iloc[1,0] + final.iloc[1,1])\n",
    "pa_or_pb"
   ]
  },
  {
   "cell_type": "code",
   "execution_count": 30,
   "id": "e762793b",
   "metadata": {},
   "outputs": [
    {
     "data": {
      "text/plain": [
       "array([0.06024096])"
      ]
     },
     "execution_count": 30,
     "metadata": {},
     "output_type": "execute_result"
    }
   ],
   "source": [
    "A_given_B = pa_or_pb / pb\n",
    "A_given_B"
   ]
  },
  {
   "cell_type": "code",
   "execution_count": 31,
   "id": "c8a010f6",
   "metadata": {},
   "outputs": [
    {
     "name": "stdout",
     "output_type": "stream",
     "text": [
      "[0.06024096]\n"
     ]
    }
   ],
   "source": [
    "print(A_given_B)"
   ]
  },
  {
   "cell_type": "code",
   "execution_count": null,
   "id": "673d04bd",
   "metadata": {},
   "outputs": [],
   "source": []
  }
 ],
 "metadata": {
  "kernelspec": {
   "display_name": "Python 3 (ipykernel)",
   "language": "python",
   "name": "python3"
  },
  "language_info": {
   "codemirror_mode": {
    "name": "ipython",
    "version": 3
   },
   "file_extension": ".py",
   "mimetype": "text/x-python",
   "name": "python",
   "nbconvert_exporter": "python",
   "pygments_lexer": "ipython3",
   "version": "3.9.7"
  }
 },
 "nbformat": 4,
 "nbformat_minor": 5
}
